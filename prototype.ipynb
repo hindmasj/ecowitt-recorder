{
 "cells": [
  {
   "cell_type": "code",
   "execution_count": null,
   "id": "49d29727-2669-43eb-b0e5-0b764d48d8ec",
   "metadata": {},
   "outputs": [],
   "source": [
    "import yaml\n",
    "\n",
    "CONFIG=\"config.yml\"\n",
    "\n",
    "with open(CONFIG, \"r\") as f:\n",
    "    config_dict=yaml.safe_load(f)"
   ]
  },
  {
   "cell_type": "code",
   "execution_count": null,
   "id": "cbe97e4a-2dfb-4c7a-8db9-a6f03f1730c8",
   "metadata": {},
   "outputs": [],
   "source": [
    "import requests\n",
    "\n",
    "ECO_EP=\"https://%s/api/v3\"%(config_dict[\"hosts\"][\"cloud\"])\n",
    "BASE_PARAMS={\"application_key\":config_dict[\"keys\"][\"appKey\"],\"api_key\":config_dict[\"keys\"][\"apiKey\"]}"
   ]
  },
  {
   "cell_type": "code",
   "execution_count": null,
   "id": "e6b8719b-e47e-4fa1-9e9e-88133733ccd3",
   "metadata": {},
   "outputs": [],
   "source": [
    "import pprint\n",
    "\n",
    "ep=\"%s/device/list\"%(ECO_EP)\n",
    "response=requests.get(ep,params=BASE_PARAMS)\n",
    "if response.ok :\n",
    "    pprint.pprint(response.json())\n",
    "else:\n",
    "    print(response.status_code,response.text)\n",
    "    print(response.request.url)\n",
    "    raise Exception(response.status_code,response.text)\n",
    "\n"
   ]
  },
  {
   "cell_type": "code",
   "execution_count": null,
   "id": "2074dd7b-9f78-45f7-b041-2cf3adef2e81",
   "metadata": {},
   "outputs": [],
   "source": [
    "device_list=response.json()[\"data\"][\"list\"]\n",
    "\n",
    "pprint.pprint(device_list)"
   ]
  },
  {
   "cell_type": "code",
   "execution_count": null,
   "id": "41d7cbb9-d20d-4e09-8a1e-81cd6fbe0d94",
   "metadata": {},
   "outputs": [],
   "source": [
    "for device in device_list:\n",
    "    device_mac=device[\"mac\"]\n",
    "    print(device_mac)"
   ]
  },
  {
   "cell_type": "code",
   "execution_count": null,
   "id": "5221356f-9c67-4742-b883-f20188cf1997",
   "metadata": {},
   "outputs": [],
   "source": [
    "ep=\"%s/device/real_time\"%(ECO_EP)\n",
    "params=BASE_PARAMS.copy()\n",
    "params.update({\"mac\":device_mac,\"call_back\":\"all\"})\n",
    "\n",
    "response=requests.get(ep,params=params)\n",
    "if response.ok :\n",
    "    pprint.pprint(response.json())\n",
    "else:\n",
    "    print(response.status_code,response.text)\n",
    "    print(response.request.url)\n",
    "    raise Exception(response.status_code,response.text)"
   ]
  },
  {
   "cell_type": "code",
   "execution_count": null,
   "id": "742a8b23-5ebb-4021-a1c9-e1961a7681bd",
   "metadata": {},
   "outputs": [],
   "source": []
  }
 ],
 "metadata": {
  "kernelspec": {
   "display_name": "Python 3 (ipykernel)",
   "language": "python",
   "name": "python3"
  },
  "language_info": {
   "codemirror_mode": {
    "name": "ipython",
    "version": 3
   },
   "file_extension": ".py",
   "mimetype": "text/x-python",
   "name": "python",
   "nbconvert_exporter": "python",
   "pygments_lexer": "ipython3",
   "version": "3.11.4"
  }
 },
 "nbformat": 4,
 "nbformat_minor": 5
}
